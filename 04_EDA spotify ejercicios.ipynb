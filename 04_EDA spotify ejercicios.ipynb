{
 "cells": [
  {
   "cell_type": "markdown",
   "metadata": {},
   "source": [
    "# ESTUDIO DE REPRODUCCIONES DE CANCIONES EN SPOTIFY"
   ]
  },
  {
   "cell_type": "markdown",
   "metadata": {},
   "source": [
    "# 1. Etapa uno: determinar los objetivos de negocio\n",
    "La primera etapa del proceso CRISP-DM es comprender lo que desea lograr desde una perspectiva comercial. Su empresa puede tener objetivos y limitaciones competitivas que deben estar bien equilibradas.El objetivo de esta etapa del proceso es descubrir factores importantes que podrían influir en el resultado del proyecto. Descuidar este paso puede significar que se hace una gran cantidad de esfuerzo para producir las respuestas correctas a las preguntas equivocadas."
   ]
  },
  {
   "cell_type": "markdown",
   "metadata": {},
   "source": [
    "## 1.1 Evaluar la situación actual "
   ]
  },
  {
   "cell_type": "markdown",
   "metadata": {},
   "source": [
    "Esto implica una investigación de hechos más detallada sobre todos los recursos, restricciones, supuestos y otros factores que deberá considerar al determinar su objetivo de análisis de datos y plan de proyecto.\n"
   ]
  },
  {
   "cell_type": "markdown",
   "metadata": {},
   "source": [
    "### 1.1.1. Inventario de recursos\n",
    "Enumerar los recursos disponibles para el proyecto, incluidos:\n",
    "- Personal:\n",
    "- Datos:\n",
    "- Recursos informáticos:\n",
    "- Software: \n"
   ]
  },
  {
   "cell_type": "markdown",
   "metadata": {},
   "source": [
    "### 1.1.2. Requisitos, supuestos y restricciones\n",
    "- Requisitos del proyecto, incluido el cronograma de finalización.\n",
    "- Requerido comprensibilidad y calidad de los resultados\n",
    "- Seguridad de los datos, así como cualquier problema legal.\n",
    "- Suposiciones hechas para la realización del proyecto. Estas pueden ser suposiciones sobre los datos que se pueden verificar durante la minería de datos, pero también pueden incluir suposiciones no verificables sobre el negocio relacionado con el proyecto. Es particularmente importante enumerar este último si afectarán la validez de los resultados.\n",
    "- Enumere las limitaciones en el proyecto.\n"
   ]
  },
  {
   "cell_type": "markdown",
   "metadata": {},
   "source": [
    "### 1.1.3. Riesgos y contingencias\n",
    "- Enumerar los riesgos o eventos que podrían retrasar el proyecto o hacer que falle.\n",
    "- ¿Qué acción tomarás si tienen lugar estos riesgos o eventos?"
   ]
  },
  {
   "cell_type": "markdown",
   "metadata": {},
   "source": [
    "### 1.1.4. Terminología\n",
    "- Un glosario de terminología comercial relevante\n",
    "- Un glosario de terminología de minería de datos, ilustrado con ejemplos relevantes para el problema comercial en cuestión.\n"
   ]
  },
  {
   "cell_type": "markdown",
   "metadata": {},
   "source": [
    "### 1.1.5. Costos y beneficios\n",
    "- Construya un análisis de costo-beneficio para el proyecto que compara los costos del proyecto con los beneficios potenciales para el negocio si es exitoso.Esta comparación debe ser lo más específica posible.Por ejemplo, debe usar medidas financieras en una situación comercial."
   ]
  },
  {
   "cell_type": "markdown",
   "metadata": {},
   "source": [
    " ## 1.2 ¿Cuáles son los resultados deseados del proyecto?"
   ]
  },
  {
   "cell_type": "markdown",
   "metadata": {},
   "source": [
    "**Criterios de éxito comercial**\n",
    "-\n",
    "-\n",
    "\n",
    "\n",
    "\n",
    "**Criterios de éxito de la minería de datos**\n",
    "-\n",
    "-\n",
    "\n",
    "\n",
    "**Producir el plan de proyecto**\n",
    "-\n",
    "-\n"
   ]
  },
  {
   "cell_type": "markdown",
   "metadata": {},
   "source": [
    " ## 1.3 ¿Qué preguntas estamos tratando de responder? "
   ]
  },
  {
   "cell_type": "markdown",
   "metadata": {},
   "source": [
    "- \n",
    "- "
   ]
  },
  {
   "cell_type": "markdown",
   "metadata": {},
   "source": [
    "# 2. Etapa dos: comprensión de los datos\n",
    "La segunda etapa del proceso CRISP-DM requiere que adquiera los datos enumerados en los recursos del proyecto. Esta colección inicial incluye la carga de datos, si esto es necesario para la comprensión de los datos.  \n",
    "Por ejemplo, si utiliza una herramienta específica para la comprensión de los datos, tiene mucho sentido cargar sus datos en esta herramienta. Si adquiere múltiples fuentes de datos, entonces debe considerar cómo y cuándo integrarálas."
   ]
  },
  {
   "cell_type": "code",
   "execution_count": 1,
   "metadata": {},
   "outputs": [],
   "source": [
    "# Import Libraries Required\n",
    "import pandas as pd\n",
    "import matplotlib.pyplot as plt\n",
    "%matplotlib inline\n",
    "import numpy as np\n",
    "import seaborn as sns"
   ]
  },
  {
   "cell_type": "markdown",
   "metadata": {},
   "source": [
    "## 2.1 Informe de datos inicial\n",
    "Informe inicial de recopilación de datos -\n",
    "Enumerar las fuentes de datos adquiridas junto con sus ubicaciones, los métodos utilizados para adquirirlas y cualquier problema encontrado.  \n",
    "Problemas de registro que encontró y cualquier resolución lograda. \n",
    "Esto ayudará tanto a la replicación futura de este proyecto como con la ejecución de proyectos futuros similares.\n",
    "\n",
    "Cargamos los datos desde sus origenes a un dataframe de pandas para su análisis.  \n",
    "En este caso el dataset con los datos de reproducciones en spotify."
   ]
  },
  {
   "cell_type": "code",
   "execution_count": 2,
   "metadata": {},
   "outputs": [],
   "source": [
    "df_spotify = pd.read_csv(\"https://raw.githubusercontent.com/nahumballina/cdbd/main/ficheros/spotify.csv\", engine='openpyxl')"
   ]
  },
  {
   "cell_type": "code",
   "execution_count": null,
   "metadata": {},
   "outputs": [],
   "source": [
    "df_spotify"
   ]
  },
  {
   "cell_type": "markdown",
   "metadata": {},
   "source": [
    "## 2.2 Describir datos\n",
    "Informe de descripción de datos: describe los datos que se han adquirido, incluido su formato, su cantidad (por ejemplo, el número de registros y campos en cada tabla), las identidades de los campos y cualquier otra característica superficial que se haya descubierto. \n",
    "Evalua si los datos adquiridos satisfacen sus requisitos."
   ]
  },
  {
   "cell_type": "markdown",
   "metadata": {},
   "source": [
    "Descripción de las columnas del dataset:\n",
    "\n",
    "* `title`: Name of the song  \n",
    "* `artist`: Name of the artist(s) of the song\n",
    "* `top_genre`: The genre of the song\n",
    "* `year`: The year the song was released\n",
    "* `bpm`: BPM (Beats Per Minute). Represents the tempo of the song\n",
    "* `energy`: Shows the level of energy in a song. The higher the value, the more energetic a song is. Values range from 0-100\n",
    "* `danceability`: The higher the value, the easier it is to dance to this song.\n",
    "* `db`: Represents volume/loudness of the song. dB stands for Decibel.\n",
    "* `liveness`: The higher the value, the more likely the song is a live recording.\n",
    "* `valence`: Describes the musical positiveness conveyed by a track. Tracks with high valence sound more positive.\n",
    "* `duration`: The duration of the songs measured in seconds\n",
    "* `acousticness`: Measures how acoustic the song is from 0-100. e.g) A song with a higher value for acousticness has less singing.\n",
    "* `speechiness`: Measures how much singing there is in a song from 0-100\n",
    "* `popularity`: Measures how popular a song is on Spotify from 0-100"
   ]
  },
  {
   "cell_type": "markdown",
   "metadata": {},
   "source": [
    "### 2.2.1 Obtenemos las columnas y vemos que representan"
   ]
  },
  {
   "cell_type": "code",
   "execution_count": null,
   "metadata": {},
   "outputs": [],
   "source": []
  },
  {
   "cell_type": "markdown",
   "metadata": {},
   "source": [
    "### 2.2.2 Obtenemos el tamaño del dataframe en filas y columnas"
   ]
  },
  {
   "cell_type": "code",
   "execution_count": null,
   "metadata": {},
   "outputs": [],
   "source": []
  },
  {
   "cell_type": "markdown",
   "metadata": {},
   "source": [
    "### 2.2.3 Vemos los tipos de datos de las columnas"
   ]
  },
  {
   "cell_type": "code",
   "execution_count": null,
   "metadata": {},
   "outputs": [],
   "source": []
  },
  {
   "cell_type": "markdown",
   "metadata": {},
   "source": [
    "### 2.2.4 Hacemos un análisis estadístico inicial del dataframe"
   ]
  },
  {
   "cell_type": "code",
   "execution_count": null,
   "metadata": {},
   "outputs": [],
   "source": []
  },
  {
   "cell_type": "markdown",
   "metadata": {},
   "source": [
    "### 2.2.6 Obtenemos información de nulos y del tamaño en memoria del dataframe"
   ]
  },
  {
   "cell_type": "code",
   "execution_count": null,
   "metadata": {},
   "outputs": [],
   "source": []
  },
  {
   "cell_type": "markdown",
   "metadata": {},
   "source": [
    "### 2.2.6 Vemos una muestra del dataframe"
   ]
  },
  {
   "cell_type": "code",
   "execution_count": null,
   "metadata": {},
   "outputs": [],
   "source": []
  },
  {
   "cell_type": "markdown",
   "metadata": {},
   "source": [
    "## 2.3 Verificar la calidad de los datos\n",
    "\n",
    "Examina la calidad de los datos, abordando preguntas como:\n",
    "\n",
    "- ¿Se completan los datos (cubre todos los casos requeridos)?\n",
    "- ¿Es correcto o contiene errores y, si hay errores, qué tan comunes son?\n",
    "- ¿Faltan valores en los datos? Si es así, ¿cómo se representan, dónde ocurren y qué tan comunes son?"
   ]
  },
  {
   "cell_type": "markdown",
   "metadata": {},
   "source": [
    "### 2.3.1. Datos nulos\n",
    "Además de los tipos de datos incorrectos, otro problema común cuando se trata de datos del mundo real es la falta de datos. Estos pueden surgir por muchas razones y deben ser completados o eliminados antes de entrenar un modelo de aprendizaje automático.  \n",
    "\n",
    "Lo primero, es hacernos una idea de cuántos valores faltantes hay en cada columna.\n",
    "\n",
    "Si bien siempre queremos tener cuidado al eliminar la información, si una columna tiene un alto porcentaje de valores faltantes, entonces probablemente no será útil para nuestro modelo. \n",
    "El umbral para eliminar columnas debe depender del problema y de la columna en cuestión."
   ]
  },
  {
   "cell_type": "code",
   "execution_count": null,
   "metadata": {},
   "outputs": [],
   "source": []
  },
  {
   "cell_type": "code",
   "execution_count": 11,
   "metadata": {},
   "outputs": [],
   "source": [
    "def missing_values_table(df):\n",
    "        mis_val = df.isnull().sum()\n",
    "        mis_val_percent = 100 * df.isnull().sum() / len(df)\n",
    "        mis_val_table = pd.concat([mis_val, mis_val_percent], axis=1)\n",
    "        mis_val_table_ren_columns = mis_val_table.rename(\n",
    "        columns = {0 : 'Missing Values', 1 : '% of Total Values'})\n",
    "        mis_val_table_ren_columns = mis_val_table_ren_columns[\n",
    "            mis_val_table_ren_columns.iloc[:,1] != 0].sort_values(\n",
    "        '% of Total Values', ascending=False).round(1)\n",
    "        print (\"Your selected dataframe has \" + str(df.shape[1]) + \" columns.\\n\"      \n",
    "            \"There are \" + str(mis_val_table_ren_columns.shape[0]) +\n",
    "              \" columns that have missing values.\")\n",
    "        return mis_val_table_ren_columns"
   ]
  },
  {
   "cell_type": "code",
   "execution_count": null,
   "metadata": {},
   "outputs": [],
   "source": []
  },
  {
   "cell_type": "code",
   "execution_count": null,
   "metadata": {},
   "outputs": [],
   "source": []
  },
  {
   "cell_type": "markdown",
   "metadata": {},
   "source": [
    "#### 2.3.1.1 Podemos comprobar como se comportan los valores en faltantes antes de determinar si es necesaria su eliminación o no\n"
   ]
  },
  {
   "cell_type": "code",
   "execution_count": null,
   "metadata": {},
   "outputs": [],
   "source": []
  },
  {
   "cell_type": "markdown",
   "metadata": {},
   "source": [
    "#### 2.3.1.2 Una vez estudiados dichos valores podemos eliminarlos las columnas si procede o simplemente quitar las filas del dataset"
   ]
  },
  {
   "cell_type": "code",
   "execution_count": 15,
   "metadata": {},
   "outputs": [],
   "source": []
  },
  {
   "cell_type": "code",
   "execution_count": null,
   "metadata": {},
   "outputs": [],
   "source": []
  },
  {
   "cell_type": "markdown",
   "metadata": {},
   "source": [
    "### 2.3.2. Duplicados\n",
    "\n",
    "Necesitamos controlar que no existan filas duplidas en el dataset. Si existieran es necesario eliminarlas."
   ]
  },
  {
   "cell_type": "code",
   "execution_count": null,
   "metadata": {},
   "outputs": [],
   "source": []
  },
  {
   "cell_type": "markdown",
   "metadata": {},
   "source": [
    "### 2.3.3. Outliers \n",
    "En este punto, es posible que también queramos eliminar los valores atípicos. Estos pueden deberse a errores tipográficos en la entrada de datos, errores en las unidades, o pueden ser valores legítimos pero extremos.  \n",
    "\n",
    "Para este proyecto, eliminaremos anomalías en función de la definición de valores atípicos extremos:\n",
    "\n",
    "https://www.itl.nist.gov/div898/handbook/prc/section1/prc16.htm\n",
    "\n",
    "- debajo del primer cuartil - 3 ∗ rango intercuartil\n",
    "- Por encima del tercer cuartil + 3 ∗ rango intercuartil"
   ]
  },
  {
   "cell_type": "code",
   "execution_count": 20,
   "metadata": {},
   "outputs": [],
   "source": [
    "def mi_boxplot(columnas):\n",
    "    fig, axs = plt.subplots(nrows=len(columnas), figsize=(8, 6 * len(columnas)))\n",
    "    for i,columna in enumerate(columnas):\n",
    "        sns.boxplot(x=df_spotify[columna], ax=axs[i])\n",
    "        axs[i].set_title(columna)\n",
    "    plt.tight_layout()\n",
    "    plt.show()"
   ]
  },
  {
   "cell_type": "code",
   "execution_count": null,
   "metadata": {},
   "outputs": [],
   "source": []
  },
  {
   "cell_type": "markdown",
   "metadata": {},
   "source": [
    "#### 2.3.2.1 Eliminar outliers\n",
    "Se pueden eliminar outliers estableciendo manualmente un umbral en el que quitariamos los valores fuera de dicho umbral.\n",
    "O de forma automática usando la regla comentada anteriormente."
   ]
  },
  {
   "cell_type": "code",
   "execution_count": null,
   "metadata": {},
   "outputs": [],
   "source": []
  },
  {
   "cell_type": "code",
   "execution_count": null,
   "metadata": {},
   "outputs": [],
   "source": []
  },
  {
   "cell_type": "code",
   "execution_count": null,
   "metadata": {},
   "outputs": [],
   "source": []
  },
  {
   "cell_type": "code",
   "execution_count": 29,
   "metadata": {},
   "outputs": [],
   "source": []
  },
  {
   "cell_type": "markdown",
   "metadata": {},
   "source": [
    "## 2.4 Exploración de datos inicial\n",
    "Durante esta etapa, se abordarán las preguntas de minería de datos utilizando consultas, visualización de datos y técnicas de informes.  \n",
    "\n",
    "Estos pueden incluir:\n",
    "\n",
    "- **Distribución** de atributos clave (por ejemplo, el atributo objetivo de una tarea de predicción)\n",
    "- **Relaciones** entre pares o pequeños números de atributos\n",
    "- Resultados de **agregaciones simples**\n",
    "- **Propiedades** de subpoblaciones significativas\n",
    "- **Simple** Análisis estadísticos\n",
    "\n",
    "Estos análisis pueden abordar directamente la consecución de los objetivos del proyecto. También pueden contribuir o refinar la descripción de los datos y los informes de calidad, a alimentar la transformación y otros pasos de preparación de datos necesarios para un análisis posterior.\n",
    "\n",
    "- **Informe de exploración de datos** - Describa los resultados de su exploración de datos, incluidos los primeros hallazgos o la hipótesis inicial y su impacto en el resto del proyecto. Si corresponde, puede incluir gráficos y parcelas aquí para indicar las características de los datos que sugieren un examen más detallado de subconjuntos de datos interesantes."
   ]
  },
  {
   "cell_type": "markdown",
   "metadata": {},
   "source": [
    "### 2.4.1 Distribuciones  "
   ]
  },
  {
   "cell_type": "code",
   "execution_count": 30,
   "metadata": {},
   "outputs": [],
   "source": [
    "def count_values_table(df):\n",
    "        count_val = df.value_counts()\n",
    "        count_val_percent = 100 * df.value_counts() / len(df)\n",
    "        count_val_table = pd.concat([count_val, count_val_percent.round(1)], axis=1)\n",
    "        count_val_table.columns=['Total Valores', '% Total Valores']\n",
    "        return count_val_table"
   ]
  },
  {
   "cell_type": "code",
   "execution_count": 31,
   "metadata": {},
   "outputs": [],
   "source": [
    "# Histograma\n",
    "def hist_chart(df, col):\n",
    "        fig = plt.figure(figsize=(40, 10))\n",
    "        plt.xticks(rotation='vertical')\n",
    "        plt.style.use('fivethirtyeight')\n",
    "        plt.hist(df[col].dropna(), edgecolor = 'k');\n",
    "        plt.xlabel(col); plt.ylabel('Número de Valores'); \n",
    "        plt.title('Distribution of '+col);"
   ]
  },
  {
   "cell_type": "code",
   "execution_count": null,
   "metadata": {},
   "outputs": [],
   "source": []
  },
  {
   "cell_type": "markdown",
   "metadata": {},
   "source": [
    "### 2.4.3 Correlaciones\n",
    "¿Podemos derivar cualquier correlación de este conjunto de datos?  \n",
    "La tabla de pares nos da las correlaciones, distribuciones y ruta de regresión.  \n",
    "El correlograma es increíble para el análisis exploratorio. Permite observar rápidamente la relación entre cada variable de su matriz.\n",
    "Es fácil hacerlo con Seaborn: solo llame a la función de parque de pares\n",
    "\n",
    "La documentación de su funcionamiento se encuentra aquí: https://seaborn.pydata.org/generated/seaBorn.pairplot.html"
   ]
  },
  {
   "cell_type": "markdown",
   "metadata": {},
   "source": [
    "#### 2.4.3.1 Correlograma"
   ]
  },
  {
   "cell_type": "code",
   "execution_count": null,
   "metadata": {},
   "outputs": [],
   "source": []
  },
  {
   "cell_type": "code",
   "execution_count": null,
   "metadata": {},
   "outputs": [],
   "source": [
    "\n"
   ]
  },
  {
   "cell_type": "markdown",
   "metadata": {},
   "source": [
    "#### 2.4.3.2 Matriz de correlación\n",
    "\n",
    "Los valores en una matriz de correlación pueden ser:\n",
    "\n",
    "- 1-Correlación Perfecta: Un valor de 1 indica una correlación positiva perfecta, lo que significa que las variables están totalmente correlacionadas de manera positiva. Si una variable aumenta, la otra también aumentará en proporción constante. Esto siempre ocurre en la diagonal principal ya que se calcula la relación de una columna consigo misma.\n",
    "\n",
    "- -1-Correlación Negativa Perfecta: Un valor de -1 indica una correlación negativa perfecta, lo que significa que las variables están totalmente correlacionadas de manera negativa. Si una variable aumenta, la otra disminuirá en proporción constante.\n",
    "\n",
    "- 0-No Correlación: Un valor cercano a 0 indica una correlación débil o nula entre las variables. Esto sugiere que los cambios en una variable no están relacionados con los cambios en la otra variable.\n",
    "\n",
    "- Entre -1 y 1: Valores que están entre -1 y 1 indican la fuerza y la dirección de la correlación. Cuanto más cercano a -1 o 1, más fuerte es la correlación. Un valor cercano a 1 indica una correlación positiva fuerte, mientras que un valor cercano a -1 indica una correlación negativa fuerte.  \n",
    "\n",
    "Podemos hacer otro tipo de clasificación:\n",
    "- Sin correlación rango (-0.25, 0,25): Las variables no tienen relación por lo que no son interesantes.\n",
    "- Correlación débil rangos (-0.5, -0.25] y [0.25, 0.5): Las variables tienen poca relación entre si. En principio no son interesantes para el estudio.\n",
    "- Correlación Moderada rangos (-0.75, -0.5] y [0.5, 0.75):  Las variables tienen relación entre ellas y es interesante estudiar dichas relaciones.\n",
    "- Correlación Fuerte rangos (-1, -0.75] y [0.75, 1):  Las variables tienen una fuerte dependencia entre ellas y es interesante estudiar dichas relaciones.\n",
    "\n",
    "Cabe decir que la escala anteriror variaría dependiendo del ámbito del que procedan los datos y el tipo de estudio que se esté realizando. Por ejemplo, a menudo en los campos médicos, la definición de una relación \"fuerte\" a menudo es mucho más baja. Si la relación entre tomar una cierta droga y la reducción de los ataques cardíacos es r = 0.3, esto podría considerarse una relación \"débil positiva\" en otros campos, pero en la medicina es lo suficientemente significativa como para que valga la pena tomar el medicamento para reducir las posibilidades de tener un ataque cardíaco.\n",
    "\n",
    "\n",
    "\n",
    "Es importante recordar que la correlación no implica causalidad. Incluso si dos variables están correlacionadas, no significa que un cambio en una variable cause el cambio en la otra variable. La interpretación de los valores en una matriz de correlación debe hacerse con precaución y puede requerir un análisis más profundo dependiendo del contexto del problema que estás investigando.\n"
   ]
  },
  {
   "cell_type": "code",
   "execution_count": null,
   "metadata": {},
   "outputs": [],
   "source": []
  },
  {
   "cell_type": "markdown",
   "metadata": {},
   "source": [
    "#### 2.4.3.3 Heat map matriz de correlación"
   ]
  },
  {
   "cell_type": "code",
   "execution_count": null,
   "metadata": {},
   "outputs": [],
   "source": []
  },
  {
   "cell_type": "markdown",
   "metadata": {},
   "source": [
    "#### 2.4.3.4 Estudio particular de correlación de variblas energy vs dB"
   ]
  },
  {
   "cell_type": "code",
   "execution_count": null,
   "metadata": {},
   "outputs": [],
   "source": []
  },
  {
   "cell_type": "markdown",
   "metadata": {},
   "source": [
    "Aqui prepramos los valores medios para comprobar su comportamiento"
   ]
  },
  {
   "cell_type": "code",
   "execution_count": null,
   "metadata": {},
   "outputs": [],
   "source": []
  },
  {
   "cell_type": "code",
   "execution_count": null,
   "metadata": {},
   "outputs": [],
   "source": []
  },
  {
   "cell_type": "markdown",
   "metadata": {},
   "source": [
    "## 2.5 Informe de calidad de datos\n",
    "Enumere los resultados de la verificación de calidad de los datos. Si existen problemas de calidad, sugiera posibles soluciones.  Las soluciones a los problemas de calidad de los datos generalmente dependen en gran medida de los datos y el conocimiento empresarial."
   ]
  },
  {
   "cell_type": "markdown",
   "metadata": {},
   "source": []
  },
  {
   "cell_type": "code",
   "execution_count": null,
   "metadata": {},
   "outputs": [],
   "source": []
  }
 ],
 "metadata": {
  "kernelspec": {
   "display_name": "base",
   "language": "python",
   "name": "python3"
  },
  "language_info": {
   "codemirror_mode": {
    "name": "ipython",
    "version": 3
   },
   "file_extension": ".py",
   "mimetype": "text/x-python",
   "name": "python",
   "nbconvert_exporter": "python",
   "pygments_lexer": "ipython3",
   "version": "3.11.3"
  },
  "orig_nbformat": 4
 },
 "nbformat": 4,
 "nbformat_minor": 2
}
